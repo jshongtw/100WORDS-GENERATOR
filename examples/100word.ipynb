{
  "nbformat": 4,
  "nbformat_minor": 0,
  "metadata": {
    "colab": {
      "name": "100WORDS-GENERATOR.ipynb",
      "provenance": []
    },
    "kernelspec": {
      "name": "python3",
      "display_name": "Python 3",
      "language": "python"
    },
    "accelerator": "GPU"
  },
  "cells": [
    {
      "cell_type": "code",
      "metadata": {
        "id": "omMmlBcEhAnZ"
      },
      "source": [
        "!git clone https://github.com/jshongtw/100WORDS-GENERATOR\n",
        "%cd 100WORDS-GENERATOR\n",
        "!pip install -r requirements.txt"
      ],
      "execution_count": null,
      "outputs": []
    },
    {
      "cell_type": "code",
      "metadata": {
        "id": "-02MCWbs-1Dy"
      },
      "source": [
        "#@title install google/sentencepiece\n",
        "\n",
        "!git clone https://github.com/google/sentencepiece.git \n",
        "%cd sentencepiece\n",
        "!mkdir build\n",
        "%cd build\n",
        "!cmake ..\n",
        "!make -j $(nproc)\n",
        "!sudo make install\n",
        "!sudo ldconfig -v\n",
        "%cd ../../"
      ],
      "execution_count": null,
      "outputs": []
    },
    {
      "cell_type": "code",
      "metadata": {
        "id": "oIV0l_g-i_lK"
      },
      "source": [
        "!head -n 5 dataset/test/raw.txt"
      ],
      "execution_count": null,
      "outputs": []
    },
    {
      "cell_type": "code",
      "metadata": {
        "id": "E6T_Tq9O-1Dz"
      },
      "source": [
        "!python cut_words.py\n",
        "!python build_tokenizer.py\n",
        "!head -n 20 dataset/test/vocab.txt"
      ],
      "execution_count": null,
      "outputs": []
    },
    {
      "cell_type": "code",
      "metadata": {
        "id": "6sw50oOIi-Be"
      },
      "source": [
        "!python predata.py\n",
        "!python train.py"
      ],
      "execution_count": null,
      "outputs": []
    },
    {
      "cell_type": "code",
      "metadata": {
        "id": "xSFuK-tgs9xf"
      },
      "source": [
        "!python predict.py"
      ],
      "execution_count": null,
      "outputs": []
    }
  ]
}