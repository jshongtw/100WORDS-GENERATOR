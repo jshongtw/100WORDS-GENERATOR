{
  "nbformat": 4,
  "nbformat_minor": 0,
  "metadata": {
    "colab": {
      "name": "100WORDS-GENERATOR.ipynb",
      "provenance": [],
      "include_colab_link": true
    },
    "kernelspec": {
      "name": "python3",
      "display_name": "Python 3",
      "language": "python"
    },
    "accelerator": "GPU"
  },
  "cells": [
    {
      "cell_type": "markdown",
      "metadata": {
        "id": "view-in-github",
        "colab_type": "text"
      },
      "source": [
        "<a href=\"https://colab.research.google.com/github/jshongtw/100WORDS-GENERATOR/blob/main/examples/100word.ipynb\" target=\"_parent\"><img src=\"https://colab.research.google.com/assets/colab-badge.svg\" alt=\"Open In Colab\"/></a>"
      ]
    },
    {
      "cell_type": "code",
      "metadata": {
        "id": "omMmlBcEhAnZ"
      },
      "source": [
        "!git clone https://github.com/jshongtw/100WORDS-GENERATOR\n",
        "%cd 100WORDS-GENERATOR\n",
        "!pip install -r requirements.txt"
      ],
      "execution_count": null,
      "outputs": []
    },
    {
      "cell_type": "code",
      "metadata": {
        "id": "-02MCWbs-1Dy"
      },
      "source": [
        "#@title install google/sentencepiece\n",
        "\n",
        "!git clone https://github.com/google/sentencepiece.git \n",
        "%cd sentencepiece\n",
        "!mkdir build\n",
        "%cd build\n",
        "!cmake ..\n",
        "!make -j $(nproc)\n",
        "!sudo make install\n",
        "!sudo ldconfig -v\n",
        "%cd ../../"
      ],
      "execution_count": null,
      "outputs": []
    },
    {
      "cell_type": "code",
      "metadata": {
        "id": "wd6uv-H7DlAo",
        "colab": {
          "base_uri": "https://localhost:8080/"
        },
        "outputId": "74661f72-f2b9-495a-d3ae-348b3e08056f"
      },
      "source": [
        "from google.colab import drive\n",
        "drive.mount('/content/drive')"
      ],
      "execution_count": 9,
      "outputs": [
        {
          "output_type": "stream",
          "text": [
            "Drive already mounted at /content/drive; to attempt to forcibly remount, call drive.mount(\"/content/drive\", force_remount=True).\n"
          ],
          "name": "stdout"
        }
      ]
    },
    {
      "cell_type": "code",
      "metadata": {
        "id": "oIV0l_g-i_lK",
        "colab": {
          "base_uri": "https://localhost:8080/"
        },
        "outputId": "7bffb179-40dd-4924-d206-8e916e4266f3"
      },
      "source": [
        "!head -n 20 /content/drive/MyDrive/100word/test/raw.txt"
      ],
      "execution_count": 10,
      "outputs": [
        {
          "output_type": "stream",
          "text": [
            "學習運用與表達在作文上，透過學習單聊解了解人世間情感。\r\n",
            "這個學期學了很多新的事物，不管是我喜歡的還是不喜歡的，我都有一定程度的收穫，而這次的成果只是一個冒號，國文還有許多神秘的面紗等著我發現。\r\n",
            "在各種主題直接，我發現了感情存在於萬物之間，不只是在人與人，另外，這學期我創作了一首歌的歌詞，透過寫歌來表達感情。\r\n",
            "這學期學習到了許多關於不同情感的文章，從愛情到師生情再到對物品的眷戀，各有不一樣的故事。在讀完這些文章後，經過學習和思考，做出的一些練習與感想。\r\n",
            "比起百花爭豔的春，蟬聲如雷的夏和寒氣逼人的冬，落葉蕭瑟的秋是我最喜歡的季節。這是一篇不只描述秋天，而有深刻體會秋意的一篇作文。\r\n",
            "從討論實驗教育到寫秋的足跡，努力去學習、去體會與國中完全不同的寫作方式。因為太想想寫出讓人驚豔的作品，導致在寫作時常常不滿意自己所寫的，塗塗改改，常常沒寫完。\r\n",
            "本學期上完我學到許多國中沒學過的歷史人物，聽到他們的事蹟後讓我對國文充滿濃厚興趣，我也學到了許多修辭讓我可以應用到作文當中，讓我的作文更上一層樓。\r\n",
            "這個國文報告整合了高一上學期的各種作業，因為這次大部分的作業都是知性的主題，國中時都沒有什麼練習過，所以目前的國文的水準還要繼續努力，多看書，讓知性作文可以寫得更好。\r\n",
            "本學期國語文學期主題為〈戀●戀〉由古時的歸有光、史可法到現代的徐志摩、琦君、鍾怡雯的感情經歷展現情感的多樣性，也藉由生活中瑣事的平淡情感寫作抒情，讓我們練習抒情寫。\r\n",
            "經課程學習之後，完成感情學習單體會詩人的感受以及親情寫作--藉物思人的表達方式，同時也有知性寫作-我看實驗教育及情感寫作-秋的足跡。\r\n",
            "第一學期國語文學習歷程網址(檔案過大).。\r\n",
            "這份文件裡有我對這學習國文課的收穫，還有段考時寫的作文，以及閱讀一篇關於感情有關的新詩寫出的賞析和心得，最後有一份和親情有關的作文。\r\n",
            "國文課藉由課文延伸出不同主題，並將對人事物的感情記錄在紙上。\r\n",
            "台北市中崙高中學年度第一學期高一國文科學習成果學習成果(戀。戀)----察覺生命裡的情感流動。\r\n",
            "透過書寫作文及學習單培養我們對於文字的美感，訓練我們描述事物的能力，並增強我們對特定主題的思辯能力。\r\n",
            "整理了段考作文與課文反思學習單，能更深入了解課文內容，使學習更有成效。\r\n",
            "透過這四份作文，我體認到自己在寫作方面的不足，知道到自己有想法但卻寫不出來，希望這點能透過訓練好好改變，在看到自己作文時，常常不停的在反思，為何別人能夠做到而我不能，我希望能讓自己對自己的作文感到驕傲。\r\n",
            "這學期的國文主題為「戀•戀」，由許多膾炙人口的文章組成，其中包括《再別康橋》、《項脊軒志》等充滿親情、愛情和友情的文學作品。我們由這個主題出發，藉由課堂學習單、段考作文表達出自己對感情的想法、反思。\r\n",
            "了解「情」的表達並不只局限於人對人，世間萬物皆有情，對任何事物都可以有情感的表達。\r\n",
            "從文章中感受作者想表達出來的感情，以及學習用文字表達自己的情感。\r\n"
          ],
          "name": "stdout"
        }
      ]
    },
    {
      "cell_type": "code",
      "metadata": {
        "id": "E6T_Tq9O-1Dz"
      },
      "source": [
        "!python cut_words.py\n",
        "!python build_tokenizer.py\n",
        "!head -n 20 /content/drive/MyDrive/100word/test/vocab.txt"
      ],
      "execution_count": null,
      "outputs": []
    },
    {
      "cell_type": "code",
      "metadata": {
        "id": "6sw50oOIi-Be"
      },
      "source": [
        "!python predata.py\n",
        "!python train.py --epochs 5"
      ],
      "execution_count": null,
      "outputs": []
    },
    {
      "cell_type": "code",
      "metadata": {
        "id": "BeuWIjnqK3_J",
        "colab": {
          "base_uri": "https://localhost:8080/"
        },
        "outputId": "b313c9fb-be18-4ad2-8096-811657cd03b5"
      },
      "source": [
        "!python predict-article.py "
      ],
      "execution_count": 19,
      "outputs": [
        {
          "output_type": "stream",
          "text": [
            "2021-07-26 10:03:20.547486: I tensorflow/stream_executor/platform/default/dso_loader.cc:53] Successfully opened dynamic library libcudart.so.11.0\n",
            "Special tokens have been added in the vocabulary, make sure the associated word embedding are fine-tuned or trained.\n",
            "2021-07-26 10:03:22.215755: I tensorflow/stream_executor/platform/default/dso_loader.cc:53] Successfully opened dynamic library libcuda.so.1\n",
            "2021-07-26 10:03:22.248724: I tensorflow/stream_executor/cuda/cuda_gpu_executor.cc:937] successful NUMA node read from SysFS had negative value (-1), but there must be at least one NUMA node, so returning NUMA node zero\n",
            "2021-07-26 10:03:22.249400: I tensorflow/core/common_runtime/gpu/gpu_device.cc:1733] Found device 0 with properties: \n",
            "pciBusID: 0000:00:04.0 name: Tesla T4 computeCapability: 7.5\n",
            "coreClock: 1.59GHz coreCount: 40 deviceMemorySize: 14.75GiB deviceMemoryBandwidth: 298.08GiB/s\n",
            "2021-07-26 10:03:22.249452: I tensorflow/stream_executor/platform/default/dso_loader.cc:53] Successfully opened dynamic library libcudart.so.11.0\n",
            "2021-07-26 10:03:22.252323: I tensorflow/stream_executor/platform/default/dso_loader.cc:53] Successfully opened dynamic library libcublas.so.11\n",
            "2021-07-26 10:03:22.252424: I tensorflow/stream_executor/platform/default/dso_loader.cc:53] Successfully opened dynamic library libcublasLt.so.11\n",
            "2021-07-26 10:03:22.254138: I tensorflow/stream_executor/platform/default/dso_loader.cc:53] Successfully opened dynamic library libcufft.so.10\n",
            "2021-07-26 10:03:22.254519: I tensorflow/stream_executor/platform/default/dso_loader.cc:53] Successfully opened dynamic library libcurand.so.10\n",
            "2021-07-26 10:03:22.256504: I tensorflow/stream_executor/platform/default/dso_loader.cc:53] Successfully opened dynamic library libcusolver.so.10\n",
            "2021-07-26 10:03:22.257192: I tensorflow/stream_executor/platform/default/dso_loader.cc:53] Successfully opened dynamic library libcusparse.so.11\n",
            "2021-07-26 10:03:22.257460: I tensorflow/stream_executor/platform/default/dso_loader.cc:53] Successfully opened dynamic library libcudnn.so.8\n",
            "2021-07-26 10:03:22.257575: I tensorflow/stream_executor/cuda/cuda_gpu_executor.cc:937] successful NUMA node read from SysFS had negative value (-1), but there must be at least one NUMA node, so returning NUMA node zero\n",
            "2021-07-26 10:03:22.258267: I tensorflow/stream_executor/cuda/cuda_gpu_executor.cc:937] successful NUMA node read from SysFS had negative value (-1), but there must be at least one NUMA node, so returning NUMA node zero\n",
            "2021-07-26 10:03:22.258791: I tensorflow/core/common_runtime/gpu/gpu_device.cc:1871] Adding visible gpu devices: 0\n",
            "2021-07-26 10:03:22.259288: I tensorflow/stream_executor/cuda/cuda_gpu_executor.cc:937] successful NUMA node read from SysFS had negative value (-1), but there must be at least one NUMA node, so returning NUMA node zero\n",
            "2021-07-26 10:03:22.259845: I tensorflow/core/common_runtime/gpu/gpu_device.cc:1733] Found device 0 with properties: \n",
            "pciBusID: 0000:00:04.0 name: Tesla T4 computeCapability: 7.5\n",
            "coreClock: 1.59GHz coreCount: 40 deviceMemorySize: 14.75GiB deviceMemoryBandwidth: 298.08GiB/s\n",
            "2021-07-26 10:03:22.259955: I tensorflow/stream_executor/cuda/cuda_gpu_executor.cc:937] successful NUMA node read from SysFS had negative value (-1), but there must be at least one NUMA node, so returning NUMA node zero\n",
            "2021-07-26 10:03:22.260532: I tensorflow/stream_executor/cuda/cuda_gpu_executor.cc:937] successful NUMA node read from SysFS had negative value (-1), but there must be at least one NUMA node, so returning NUMA node zero\n",
            "2021-07-26 10:03:22.261047: I tensorflow/core/common_runtime/gpu/gpu_device.cc:1871] Adding visible gpu devices: 0\n",
            "2021-07-26 10:03:22.261105: I tensorflow/stream_executor/platform/default/dso_loader.cc:53] Successfully opened dynamic library libcudart.so.11.0\n",
            "2021-07-26 10:03:22.874914: I tensorflow/core/common_runtime/gpu/gpu_device.cc:1258] Device interconnect StreamExecutor with strength 1 edge matrix:\n",
            "2021-07-26 10:03:22.874977: I tensorflow/core/common_runtime/gpu/gpu_device.cc:1264]      0 \n",
            "2021-07-26 10:03:22.874996: I tensorflow/core/common_runtime/gpu/gpu_device.cc:1277] 0:   N \n",
            "2021-07-26 10:03:22.875212: I tensorflow/stream_executor/cuda/cuda_gpu_executor.cc:937] successful NUMA node read from SysFS had negative value (-1), but there must be at least one NUMA node, so returning NUMA node zero\n",
            "2021-07-26 10:03:22.875920: I tensorflow/stream_executor/cuda/cuda_gpu_executor.cc:937] successful NUMA node read from SysFS had negative value (-1), but there must be at least one NUMA node, so returning NUMA node zero\n",
            "2021-07-26 10:03:22.876607: I tensorflow/stream_executor/cuda/cuda_gpu_executor.cc:937] successful NUMA node read from SysFS had negative value (-1), but there must be at least one NUMA node, so returning NUMA node zero\n",
            "2021-07-26 10:03:22.877204: W tensorflow/core/common_runtime/gpu/gpu_bfc_allocator.cc:39] Overriding allow_growth setting because the TF_FORCE_GPU_ALLOW_GROWTH environment variable is set. Original config value was 0.\n",
            "2021-07-26 10:03:22.877250: I tensorflow/core/common_runtime/gpu/gpu_device.cc:1418] Created TensorFlow device (/job:localhost/replica:0/task:0/device:GPU:0 with 13837 MB memory) -> physical GPU (device: 0, name: Tesla T4, pci bus id: 0000:00:04.0, compute capability: 7.5)\n",
            "2021-07-26 10:03:22.891902: W tensorflow/python/util/util.cc:348] Sets are not currently considered sequences, but this may change in the future, so consider avoiding using them.\n",
            "2021-07-26 10:03:22.936012: I tensorflow/stream_executor/platform/default/dso_loader.cc:53] Successfully opened dynamic library libcublas.so.11\n",
            "2021-07-26 10:03:23.467613: I tensorflow/stream_executor/platform/default/dso_loader.cc:53] Successfully opened dynamic library libcublasLt.so.11\n",
            "All model checkpoint layers were used when initializing TFGPT2LMHeadModel.\n",
            "\n",
            "All the layers of TFGPT2LMHeadModel were initialized from the model checkpoint at /content/drive/MyDrive/100word/models/.\n",
            "If your task is similar to the task the model of the checkpoint was trained on, you can already use TFGPT2LMHeadModel for predictions without further training.\n",
            "INFO:absl:using Adamw optimizer\n",
            "INFO:absl:gradient_clip_norm=1.000000\n",
            "0 原文 :  國文桃花源記，將課文以圖畫的方式展現，使內容更深動。\n",
            "\n",
            "feedin 紅樓夢是我最喜歡的書。國文桃花源記\n",
            "第000文章第00段:  紅樓夢是我最喜歡的書。國文桃花源記-心目中理想世界,以簡介、自己與社會議題做結合及統整,能夠讓讀者一目了然本課作為報告內容,在這份作業上也成功課堂課前老師要求同學完成果斷定時間還要先畫下跟組員們出每個分配置當中報告的幫助讀過去找尋問爸媽和同學做答覆蓋了很多次,老師長輩子不忘記錄影片面向我們討論語調查詢問有沒有關於哪些文章大家互相關注意見面對小部分享補充實地搜尋找尋找尋找資料後又或聽進行政訊息相關懷抱著女\n",
            "\n",
            "feedin 紅樓夢是我最喜歡的書。\n",
            "第000文章第01段:  紅樓夢是我最喜歡的書。 針對《紅樓夢》故事,從中學到不少人生哲理思考方式,和如何透過文字描繪角色個性,以及分析每一位角色之間的愛情糾,而在這部份學習單純真實際遇到寶玉里程度上皆令我們也更深入化、有許多值得知情感情感受到了很重要慎思考論點再加以此報告訴說明瞭解下場景象徵文本組員曹雪磨練到她自殺人物以及互相關係,為一些樣貌,也讓賈家庭。 以讀後將每位於曹七巧思考、客觀念各種族群體悟出身邊界才能夠找尋找出其\n",
            "\n",
            "feedin 紅樓夢是我最喜歡的書。\n"
          ],
          "name": "stdout"
        }
      ]
    },
    {
      "cell_type": "code",
      "metadata": {
        "id": "ahCyjPlv7iWu"
      },
      "source": [
        ""
      ],
      "execution_count": null,
      "outputs": []
    }
  ]
}