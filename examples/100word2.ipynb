{
  "nbformat": 4,
  "nbformat_minor": 0,
  "metadata": {
    "colab": {
      "name": "100WORDS-GENERATOR.ipynb",
      "provenance": [],
      "include_colab_link": true
    },
    "kernelspec": {
      "name": "python3",
      "display_name": "Python 3",
      "language": "python"
    },
    "accelerator": "GPU"
  },
  "cells": [
    {
      "cell_type": "markdown",
      "metadata": {
        "id": "view-in-github",
        "colab_type": "text"
      },
      "source": [
        "<a href=\"https://colab.research.google.com/github/jshongtw/100WORDS-GENERATOR/blob/main/examples/100word2.ipynb\" target=\"_parent\"><img src=\"https://colab.research.google.com/assets/colab-badge.svg\" alt=\"Open In Colab\"/></a>"
      ]
    },
    {
      "cell_type": "code",
      "metadata": {
        "id": "omMmlBcEhAnZ"
      },
      "source": [
        "!git clone https://github.com/jshongtw/100WORDS-GENERATOR\n",
        "%cd 100WORDS-GENERATOR\n",
        "!pip install -r requirements.txt"
      ],
      "execution_count": null,
      "outputs": []
    },
    {
      "cell_type": "code",
      "metadata": {
        "id": "-02MCWbs-1Dy"
      },
      "source": [
        "#@title install google/sentencepiece\n",
        "\n",
        "!git clone https://github.com/google/sentencepiece.git \n",
        "%cd sentencepiece\n",
        "!mkdir build\n",
        "%cd build\n",
        "!cmake ..\n",
        "!make -j $(nproc)\n",
        "!sudo make install\n",
        "!sudo ldconfig -v\n",
        "%cd ../../"
      ],
      "execution_count": null,
      "outputs": []
    },
    {
      "cell_type": "code",
      "metadata": {
        "id": "wd6uv-H7DlAo",
        "outputId": "c72aa16f-20b0-4c32-ef0b-38ee165f1276",
        "colab": {
          "base_uri": "https://localhost:8080/"
        }
      },
      "source": [
        "from google.colab import drive\n",
        "drive.mount('/content/drive')"
      ],
      "execution_count": 4,
      "outputs": [
        {
          "output_type": "stream",
          "text": [
            "Drive already mounted at /content/drive; to attempt to forcibly remount, call drive.mount(\"/content/drive\", force_remount=True).\n"
          ],
          "name": "stdout"
        }
      ]
    },
    {
      "cell_type": "code",
      "metadata": {
        "id": "oIV0l_g-i_lK",
        "outputId": "a21a6b0d-5839-4f31-eac3-ff9070ba90ef",
        "colab": {
          "base_uri": "https://localhost:8080/"
        }
      },
      "source": [
        "!head -n 5 /content/drive/MyDrive/100word/raw.txt"
      ],
      "execution_count": 20,
      "outputs": [
        {
          "output_type": "stream",
          "text": [
            "學習3ds max的使用。  基於未來想從事遊戲美術，加上受到遊戲的影響，因而對於3D建模產生興趣。  這份報告有這學期學習時，遇到了哪些困難、如何解決、心得收穫以及燃燒了3個月的成果。\r\n",
            "利用自主學習還有課餘時間準備全民英檢,目標考過全民英檢中級\r\n",
            "讀很多單字和聽很多聽力，準備考中級英檢\r\n",
            "利用大考中心興趣量表、ColleGO認識了自己的興向\r\n",
            "自行規劃學習課程，並達到學習目標。\r\n"
          ],
          "name": "stdout"
        }
      ]
    },
    {
      "cell_type": "code",
      "metadata": {
        "id": "E6T_Tq9O-1Dz",
        "outputId": "f55f8f24-439f-479b-a707-3b4b764c7583",
        "colab": {
          "base_uri": "https://localhost:8080/"
        }
      },
      "source": [
        "!python cut_words.py\n",
        "!python build_tokenizer.py\n",
        "!head -n 20 /content/drive/MyDrive/100word/vocab.txt"
      ],
      "execution_count": 21,
      "outputs": [
        {
          "output_type": "stream",
          "text": [
            "reading ./dataset/test/raw.txt\n",
            "total words: 296356\n",
            "split data into 1 pieces\n",
            "\r  0% 0/4001 [00:00<?, ?it/s]Building prefix dict from the default dictionary ...\n",
            "Loading model from cache /tmp/jieba.cache\n",
            "Loading model cost 0.753 seconds.\n",
            "Prefix dict has been built successfully.\n",
            "100% 4001/4001 [00:02<00:00, 1418.32it/s]\n",
            "[all_task done]\n",
            "dropping dataset/test/raw.cut.temp.0.txt\n",
            "sentencepiece_trainer.cc(77) LOG(INFO) Starts training with : \n",
            "trainer_spec {\n",
            "  input: ./dataset/test/raw.cut.txt\n",
            "  input_format: \n",
            "  model_prefix: spiece\n",
            "  model_type: BPE\n",
            "  vocab_size: 3000\n",
            "  self_test_sample_size: 0\n",
            "  character_coverage: 0.98\n",
            "  input_sentence_size: 0\n",
            "  shuffle_input_sentence: 1\n",
            "  seed_sentencepiece_size: 1000000\n",
            "  shrinking_factor: 0.75\n",
            "  max_sentence_length: 4192\n",
            "  num_threads: 2\n",
            "  num_sub_iterations: 2\n",
            "  max_sentencepiece_length: 16\n",
            "  split_by_unicode_script: 1\n",
            "  split_by_number: 1\n",
            "  split_by_whitespace: 1\n",
            "  split_digits: 0\n",
            "  treat_whitespace_as_suffix: 0\n",
            "  allow_whitespace_only_pieces: 0\n",
            "  required_chars: \n",
            "  byte_fallback: 0\n",
            "  vocabulary_output_piece_score: 1\n",
            "  train_extremely_large_corpus: 0\n",
            "  hard_vocab_limit: 1\n",
            "  use_all_vocab: 0\n",
            "  unk_id: 0\n",
            "  bos_id: 1\n",
            "  eos_id: 2\n",
            "  pad_id: -1\n",
            "  unk_piece: <unk>\n",
            "  bos_piece: <s>\n",
            "  eos_piece: </s>\n",
            "  pad_piece: <pad>\n",
            "  unk_surface:  ⁇ \n",
            "}\n",
            "normalizer_spec {\n",
            "  name: nmt_nfkc\n",
            "  add_dummy_prefix: 1\n",
            "  remove_extra_whitespaces: 1\n",
            "  escape_whitespaces: 1\n",
            "  normalization_rule_tsv: \n",
            "}\n",
            "denormalizer_spec {}\n",
            "trainer_interface.cc(329) LOG(INFO) SentenceIterator is not specified. Using MultiFileSentenceIterator.\n",
            "trainer_interface.cc(178) LOG(INFO) Loading corpus: ./dataset/test/raw.cut.txt\n",
            "trainer_interface.cc(356) LOG(WARNING) Found too long line (4996 > 4192).\n",
            "trainer_interface.cc(358) LOG(WARNING) Too long lines are skipped in the training.\n",
            "trainer_interface.cc(359) LOG(WARNING) The maximum length can be changed with --max_sentence_length=<size> flag.\n",
            "trainer_interface.cc(385) LOG(INFO) Loaded all 3996 sentences\n",
            "trainer_interface.cc(391) LOG(INFO) Skipped 4 too long sentences.\n",
            "trainer_interface.cc(400) LOG(INFO) Adding meta_piece: <unk>\n",
            "trainer_interface.cc(400) LOG(INFO) Adding meta_piece: <s>\n",
            "trainer_interface.cc(400) LOG(INFO) Adding meta_piece: </s>\n",
            "trainer_interface.cc(405) LOG(INFO) Normalizing sentences...\n",
            "trainer_interface.cc(466) LOG(INFO) all chars count=462693\n",
            "trainer_interface.cc(477) LOG(INFO) Done: 98.0021% characters are covered.\n",
            "trainer_interface.cc(487) LOG(INFO) Alphabet size=2401\n",
            "trainer_interface.cc(488) LOG(INFO) Final character coverage=0.980021\n",
            "trainer_interface.cc(520) LOG(INFO) Done! preprocessed 3996 sentences.\n",
            "trainer_interface.cc(526) LOG(INFO) Tokenizing input sentences with whitespace: 3996\n",
            "trainer_interface.cc(537) LOG(INFO) Done! 47783\n",
            "bpe_model_trainer.cc(167) LOG(INFO) Updating active symbols. max_freq=17963 min_freq=10\n",
            "bpe_model_trainer.cc(258) LOG(INFO) Added: freq=571 size=20 all=55759 active=4966 piece=▁上\n",
            "bpe_model_trainer.cc(258) LOG(INFO) Added: freq=403 size=40 all=57794 active=7001 piece=▁万\n",
            "bpe_model_trainer.cc(258) LOG(INFO) Added: freq=345 size=60 all=59464 active=8671 piece=▁东\n",
            "bpe_model_trainer.cc(258) LOG(INFO) Added: freq=293 size=80 all=61038 active=10245 piece=▁寄\n",
            "bpe_model_trainer.cc(258) LOG(INFO) Added: freq=258 size=100 all=62724 active=11931 piece=▁前\n",
            "bpe_model_trainer.cc(167) LOG(INFO) Updating active symbols. max_freq=258 min_freq=8\n",
            "bpe_model_trainer.cc(258) LOG(INFO) Added: freq=216 size=120 all=64015 active=4340 piece=▁其一\n",
            "bpe_model_trainer.cc(258) LOG(INFO) Added: freq=202 size=140 all=64944 active=5269 piece=▁其二\n",
            "bpe_model_trainer.cc(258) LOG(INFO) Added: freq=179 size=160 all=66324 active=6649 piece=▁草\n",
            "bpe_model_trainer.cc(258) LOG(INFO) Added: freq=162 size=180 all=67510 active=7835 piece=▁禅\n",
            "bpe_model_trainer.cc(258) LOG(INFO) Added: freq=152 size=200 all=68637 active=8962 piece=▁惊\n",
            "bpe_model_trainer.cc(167) LOG(INFO) Updating active symbols. max_freq=151 min_freq=7\n",
            "bpe_model_trainer.cc(258) LOG(INFO) Added: freq=138 size=220 all=69539 active=4280 piece=▁听\n",
            "bpe_model_trainer.cc(258) LOG(INFO) Added: freq=125 size=240 all=70361 active=5102 piece=▁昔\n",
            "bpe_model_trainer.cc(258) LOG(INFO) Added: freq=118 size=260 all=71014 active=5755 piece=▁死\n",
            "bpe_model_trainer.cc(258) LOG(INFO) Added: freq=111 size=280 all=71804 active=6545 piece=▁碧\n",
            "bpe_model_trainer.cc(258) LOG(INFO) Added: freq=105 size=300 all=72471 active=7212 piece=▁情\n",
            "bpe_model_trainer.cc(167) LOG(INFO) Updating active symbols. max_freq=105 min_freq=6\n",
            "bpe_model_trainer.cc(258) LOG(INFO) Added: freq=100 size=320 all=73018 active=4137 piece=▁说\n",
            "bpe_model_trainer.cc(258) LOG(INFO) Added: freq=95 size=340 all=73496 active=4615 piece=▁翻\n",
            "bpe_model_trainer.cc(258) LOG(INFO) Added: freq=90 size=360 all=74187 active=5306 piece=▁里\n",
            "bpe_model_trainer.cc(258) LOG(INFO) Added: freq=84 size=380 all=74703 active=5822 piece=▁亲\n",
            "bpe_model_trainer.cc(258) LOG(INFO) Added: freq=80 size=400 all=75207 active=6326 piece=▁饮\n",
            "bpe_model_trainer.cc(167) LOG(INFO) Updating active symbols. max_freq=79 min_freq=6\n",
            "bpe_model_trainer.cc(258) LOG(INFO) Added: freq=75 size=420 all=75810 active=4334 piece=▁功\n",
            "bpe_model_trainer.cc(258) LOG(INFO) Added: freq=73 size=440 all=76364 active=4888 piece=▁精\n",
            "bpe_model_trainer.cc(258) LOG(INFO) Added: freq=70 size=460 all=76882 active=5406 piece=▁十二\n",
            "bpe_model_trainer.cc(258) LOG(INFO) Added: freq=66 size=480 all=77277 active=5801 piece=▁晓\n",
            "bpe_model_trainer.cc(258) LOG(INFO) Added: freq=63 size=500 all=77700 active=6224 piece=▁傍\n",
            "bpe_model_trainer.cc(167) LOG(INFO) Updating active symbols. max_freq=63 min_freq=5\n",
            "bpe_model_trainer.cc(258) LOG(INFO) Added: freq=61 size=520 all=78094 active=4257 piece=▁定\n",
            "bpe_model_trainer.cc(258) LOG(INFO) Added: freq=59 size=540 all=78461 active=4624 piece=▁昨\n",
            "bpe_model_trainer.cc(258) LOG(INFO) Added: freq=57 size=560 all=78874 active=5037 piece=▁内\n",
            "bpe_model_trainer.cc(258) LOG(INFO) Added: freq=54 size=580 all=79270 active=5433 piece=▁洛\n",
            "trainer_interface.cc(615) LOG(INFO) Saving model: spiece.model\n",
            "trainer_interface.cc(626) LOG(INFO) Saving vocabs: spiece.vocab\n",
            "[PAD]\n",
            "[UNK]\n",
            "[CLS]\n",
            "[SEP]\n",
            "[MASK]\n",
            "?\n",
            "□\n",
            "。\n",
            "【\n",
            "】\n",
            "一\n",
            "七\n",
            "萬\n",
            "三\n",
            "上\n",
            "下\n",
            "不\n",
            "與\n",
            "且\n",
            "世\n"
          ],
          "name": "stdout"
        }
      ]
    },
    {
      "cell_type": "code",
      "metadata": {
        "id": "6sw50oOIi-Be",
        "outputId": "fae7a818-0837-4ba5-e26d-79af3baf4e78",
        "colab": {
          "base_uri": "https://localhost:8080/"
        }
      },
      "source": [
        "!python predata.py\n",
        "!python train.py --epochs 1"
      ],
      "execution_count": 26,
      "outputs": [
        {
          "output_type": "stream",
          "text": [
            "2021-07-20 04:43:03.933777: I tensorflow/stream_executor/platform/default/dso_loader.cc:53] Successfully opened dynamic library libcudart.so.11.0\n",
            "reading /content/drive/MyDrive/100word//content/drive/MyDrive/100word/raw.txt\n",
            "Traceback (most recent call last):\n",
            "  File \"predata.py\", line 137, in <module>\n",
            "    preprocess()\n",
            "  File \"/usr/local/lib/python3.7/dist-packages/click/core.py\", line 829, in __call__\n",
            "    return self.main(*args, **kwargs)\n",
            "  File \"/usr/local/lib/python3.7/dist-packages/click/core.py\", line 782, in main\n",
            "    rv = self.invoke(ctx)\n",
            "  File \"/usr/local/lib/python3.7/dist-packages/click/core.py\", line 1066, in invoke\n",
            "    return ctx.invoke(self.callback, **ctx.params)\n",
            "  File \"/usr/local/lib/python3.7/dist-packages/click/core.py\", line 610, in invoke\n",
            "    return callback(*args, **kwargs)\n",
            "  File \"predata.py\", line 126, in preprocess\n",
            "    with open(configs.data.raw, 'r') as f:\n",
            "FileNotFoundError: [Errno 2] No such file or directory: '/content/drive/MyDrive/100word//content/drive/MyDrive/100word/raw.txt'\n",
            "2021-07-20 04:43:06.538101: I tensorflow/stream_executor/platform/default/dso_loader.cc:53] Successfully opened dynamic library libcudart.so.11.0\n",
            "2021-07-20 04:43:08.331107: I tensorflow/stream_executor/platform/default/dso_loader.cc:53] Successfully opened dynamic library libcuda.so.1\n",
            "2021-07-20 04:43:08.359526: I tensorflow/stream_executor/cuda/cuda_gpu_executor.cc:937] successful NUMA node read from SysFS had negative value (-1), but there must be at least one NUMA node, so returning NUMA node zero\n",
            "2021-07-20 04:43:08.360152: I tensorflow/core/common_runtime/gpu/gpu_device.cc:1733] Found device 0 with properties: \n",
            "pciBusID: 0000:00:04.0 name: Tesla T4 computeCapability: 7.5\n",
            "coreClock: 1.59GHz coreCount: 40 deviceMemorySize: 14.75GiB deviceMemoryBandwidth: 298.08GiB/s\n",
            "2021-07-20 04:43:08.360198: I tensorflow/stream_executor/platform/default/dso_loader.cc:53] Successfully opened dynamic library libcudart.so.11.0\n",
            "2021-07-20 04:43:08.362774: I tensorflow/stream_executor/platform/default/dso_loader.cc:53] Successfully opened dynamic library libcublas.so.11\n",
            "2021-07-20 04:43:08.362867: I tensorflow/stream_executor/platform/default/dso_loader.cc:53] Successfully opened dynamic library libcublasLt.so.11\n",
            "2021-07-20 04:43:08.364497: I tensorflow/stream_executor/platform/default/dso_loader.cc:53] Successfully opened dynamic library libcufft.so.10\n",
            "2021-07-20 04:43:08.364885: I tensorflow/stream_executor/platform/default/dso_loader.cc:53] Successfully opened dynamic library libcurand.so.10\n",
            "2021-07-20 04:43:08.366763: I tensorflow/stream_executor/platform/default/dso_loader.cc:53] Successfully opened dynamic library libcusolver.so.10\n",
            "2021-07-20 04:43:08.367556: I tensorflow/stream_executor/platform/default/dso_loader.cc:53] Successfully opened dynamic library libcusparse.so.11\n",
            "2021-07-20 04:43:08.367751: I tensorflow/stream_executor/platform/default/dso_loader.cc:53] Successfully opened dynamic library libcudnn.so.8\n",
            "2021-07-20 04:43:08.367869: I tensorflow/stream_executor/cuda/cuda_gpu_executor.cc:937] successful NUMA node read from SysFS had negative value (-1), but there must be at least one NUMA node, so returning NUMA node zero\n",
            "2021-07-20 04:43:08.368578: I tensorflow/stream_executor/cuda/cuda_gpu_executor.cc:937] successful NUMA node read from SysFS had negative value (-1), but there must be at least one NUMA node, so returning NUMA node zero\n",
            "2021-07-20 04:43:08.369148: I tensorflow/core/common_runtime/gpu/gpu_device.cc:1871] Adding visible gpu devices: 0\n",
            "2021-07-20 04:43:08.369679: I tensorflow/stream_executor/cuda/cuda_gpu_executor.cc:937] successful NUMA node read from SysFS had negative value (-1), but there must be at least one NUMA node, so returning NUMA node zero\n",
            "2021-07-20 04:43:08.370292: I tensorflow/core/common_runtime/gpu/gpu_device.cc:1733] Found device 0 with properties: \n",
            "pciBusID: 0000:00:04.0 name: Tesla T4 computeCapability: 7.5\n",
            "coreClock: 1.59GHz coreCount: 40 deviceMemorySize: 14.75GiB deviceMemoryBandwidth: 298.08GiB/s\n",
            "2021-07-20 04:43:08.370373: I tensorflow/stream_executor/cuda/cuda_gpu_executor.cc:937] successful NUMA node read from SysFS had negative value (-1), but there must be at least one NUMA node, so returning NUMA node zero\n",
            "2021-07-20 04:43:08.371026: I tensorflow/stream_executor/cuda/cuda_gpu_executor.cc:937] successful NUMA node read from SysFS had negative value (-1), but there must be at least one NUMA node, so returning NUMA node zero\n",
            "2021-07-20 04:43:08.371631: I tensorflow/core/common_runtime/gpu/gpu_device.cc:1871] Adding visible gpu devices: 0\n",
            "2021-07-20 04:43:08.371684: I tensorflow/stream_executor/platform/default/dso_loader.cc:53] Successfully opened dynamic library libcudart.so.11.0\n",
            "2021-07-20 04:43:09.020755: I tensorflow/core/common_runtime/gpu/gpu_device.cc:1258] Device interconnect StreamExecutor with strength 1 edge matrix:\n",
            "2021-07-20 04:43:09.020815: I tensorflow/core/common_runtime/gpu/gpu_device.cc:1264]      0 \n",
            "2021-07-20 04:43:09.020836: I tensorflow/core/common_runtime/gpu/gpu_device.cc:1277] 0:   N \n",
            "2021-07-20 04:43:09.021011: I tensorflow/stream_executor/cuda/cuda_gpu_executor.cc:937] successful NUMA node read from SysFS had negative value (-1), but there must be at least one NUMA node, so returning NUMA node zero\n",
            "2021-07-20 04:43:09.021637: I tensorflow/stream_executor/cuda/cuda_gpu_executor.cc:937] successful NUMA node read from SysFS had negative value (-1), but there must be at least one NUMA node, so returning NUMA node zero\n",
            "2021-07-20 04:43:09.022324: I tensorflow/stream_executor/cuda/cuda_gpu_executor.cc:937] successful NUMA node read from SysFS had negative value (-1), but there must be at least one NUMA node, so returning NUMA node zero\n",
            "2021-07-20 04:43:09.022910: W tensorflow/core/common_runtime/gpu/gpu_bfc_allocator.cc:39] Overriding allow_growth setting because the TF_FORCE_GPU_ALLOW_GROWTH environment variable is set. Original config value was 0.\n",
            "2021-07-20 04:43:09.022981: I tensorflow/core/common_runtime/gpu/gpu_device.cc:1418] Created TensorFlow device (/job:localhost/replica:0/task:0/device:GPU:0 with 13837 MB memory) -> physical GPU (device: 0, name: Tesla T4, pci bus id: 0000:00:04.0, compute capability: 7.5)\n",
            "WARNING:tensorflow:Collective ops is not configured at program startup. Some performance features may not be enabled.\n",
            "Traceback (most recent call last):\n",
            "  File \"train.py\", line 153, in <module>\n",
            "    main()\n",
            "  File \"/usr/local/lib/python3.7/dist-packages/click/core.py\", line 829, in __call__\n",
            "    return self.main(*args, **kwargs)\n",
            "  File \"/usr/local/lib/python3.7/dist-packages/click/core.py\", line 782, in main\n",
            "    rv = self.invoke(ctx)\n",
            "  File \"/usr/local/lib/python3.7/dist-packages/click/core.py\", line 1066, in invoke\n",
            "    return ctx.invoke(self.callback, **ctx.params)\n",
            "  File \"/usr/local/lib/python3.7/dist-packages/click/core.py\", line 610, in invoke\n",
            "    return callback(*args, **kwargs)\n",
            "  File \"train.py\", line 143, in main\n",
            "    tokenizer = load_tokenizer()\n",
            "  File \"train.py\", line 24, in load_tokenizer\n",
            "    configs.data.path, max_len=configs.model.max_length, add_special_token=False)\n",
            "  File \"/usr/local/lib/python3.7/dist-packages/transformers/tokenization_utils_base.py\", line 1754, in from_pretrained\n",
            "    raise EnvironmentError(msg)\n",
            "OSError: Can't load tokenizer for '/content/drive/MyDrive/100word//content/drive/MyDrive/100word/'. Make sure that:\n",
            "\n",
            "- '/content/drive/MyDrive/100word//content/drive/MyDrive/100word/' is a correct model identifier listed on 'https://huggingface.co/models'\n",
            "\n",
            "- or '/content/drive/MyDrive/100word//content/drive/MyDrive/100word/' is the correct path to a directory containing relevant tokenizer files\n",
            "\n",
            "\n"
          ],
          "name": "stdout"
        }
      ]
    },
    {
      "cell_type": "code",
      "metadata": {
        "id": "xSFuK-tgs9xf",
        "outputId": "2315c164-2492-4ab2-f3ae-e01047f5207b",
        "colab": {
          "base_uri": "https://localhost:8080/"
        }
      },
      "source": [
        "!python predict.py"
      ],
      "execution_count": 23,
      "outputs": [
        {
          "output_type": "stream",
          "text": [
            "2021-07-20 04:35:05.892529: I tensorflow/stream_executor/platform/default/dso_loader.cc:53] Successfully opened dynamic library libcudart.so.11.0\n",
            "Special tokens have been added in the vocabulary, make sure the associated word embedding are fine-tuned or trained.\n",
            "2021-07-20 04:35:07.577986: I tensorflow/stream_executor/platform/default/dso_loader.cc:53] Successfully opened dynamic library libcuda.so.1\n",
            "2021-07-20 04:35:07.611229: I tensorflow/stream_executor/cuda/cuda_gpu_executor.cc:937] successful NUMA node read from SysFS had negative value (-1), but there must be at least one NUMA node, so returning NUMA node zero\n",
            "2021-07-20 04:35:07.612261: I tensorflow/core/common_runtime/gpu/gpu_device.cc:1733] Found device 0 with properties: \n",
            "pciBusID: 0000:00:04.0 name: Tesla T4 computeCapability: 7.5\n",
            "coreClock: 1.59GHz coreCount: 40 deviceMemorySize: 14.75GiB deviceMemoryBandwidth: 298.08GiB/s\n",
            "2021-07-20 04:35:07.612341: I tensorflow/stream_executor/platform/default/dso_loader.cc:53] Successfully opened dynamic library libcudart.so.11.0\n",
            "2021-07-20 04:35:07.615139: I tensorflow/stream_executor/platform/default/dso_loader.cc:53] Successfully opened dynamic library libcublas.so.11\n",
            "2021-07-20 04:35:07.615223: I tensorflow/stream_executor/platform/default/dso_loader.cc:53] Successfully opened dynamic library libcublasLt.so.11\n",
            "2021-07-20 04:35:07.616996: I tensorflow/stream_executor/platform/default/dso_loader.cc:53] Successfully opened dynamic library libcufft.so.10\n",
            "2021-07-20 04:35:07.617469: I tensorflow/stream_executor/platform/default/dso_loader.cc:53] Successfully opened dynamic library libcurand.so.10\n",
            "2021-07-20 04:35:07.619577: I tensorflow/stream_executor/platform/default/dso_loader.cc:53] Successfully opened dynamic library libcusolver.so.10\n",
            "2021-07-20 04:35:07.620220: I tensorflow/stream_executor/platform/default/dso_loader.cc:53] Successfully opened dynamic library libcusparse.so.11\n",
            "2021-07-20 04:35:07.620438: I tensorflow/stream_executor/platform/default/dso_loader.cc:53] Successfully opened dynamic library libcudnn.so.8\n",
            "2021-07-20 04:35:07.620554: I tensorflow/stream_executor/cuda/cuda_gpu_executor.cc:937] successful NUMA node read from SysFS had negative value (-1), but there must be at least one NUMA node, so returning NUMA node zero\n",
            "2021-07-20 04:35:07.621234: I tensorflow/stream_executor/cuda/cuda_gpu_executor.cc:937] successful NUMA node read from SysFS had negative value (-1), but there must be at least one NUMA node, so returning NUMA node zero\n",
            "2021-07-20 04:35:07.621793: I tensorflow/core/common_runtime/gpu/gpu_device.cc:1871] Adding visible gpu devices: 0\n",
            "2021-07-20 04:35:07.622331: I tensorflow/stream_executor/cuda/cuda_gpu_executor.cc:937] successful NUMA node read from SysFS had negative value (-1), but there must be at least one NUMA node, so returning NUMA node zero\n",
            "2021-07-20 04:35:07.622917: I tensorflow/core/common_runtime/gpu/gpu_device.cc:1733] Found device 0 with properties: \n",
            "pciBusID: 0000:00:04.0 name: Tesla T4 computeCapability: 7.5\n",
            "coreClock: 1.59GHz coreCount: 40 deviceMemorySize: 14.75GiB deviceMemoryBandwidth: 298.08GiB/s\n",
            "2021-07-20 04:35:07.623019: I tensorflow/stream_executor/cuda/cuda_gpu_executor.cc:937] successful NUMA node read from SysFS had negative value (-1), but there must be at least one NUMA node, so returning NUMA node zero\n",
            "2021-07-20 04:35:07.623600: I tensorflow/stream_executor/cuda/cuda_gpu_executor.cc:937] successful NUMA node read from SysFS had negative value (-1), but there must be at least one NUMA node, so returning NUMA node zero\n",
            "2021-07-20 04:35:07.624170: I tensorflow/core/common_runtime/gpu/gpu_device.cc:1871] Adding visible gpu devices: 0\n",
            "2021-07-20 04:35:07.624227: I tensorflow/stream_executor/platform/default/dso_loader.cc:53] Successfully opened dynamic library libcudart.so.11.0\n",
            "2021-07-20 04:35:08.249985: I tensorflow/core/common_runtime/gpu/gpu_device.cc:1258] Device interconnect StreamExecutor with strength 1 edge matrix:\n",
            "2021-07-20 04:35:08.250043: I tensorflow/core/common_runtime/gpu/gpu_device.cc:1264]      0 \n",
            "2021-07-20 04:35:08.250060: I tensorflow/core/common_runtime/gpu/gpu_device.cc:1277] 0:   N \n",
            "2021-07-20 04:35:08.250260: I tensorflow/stream_executor/cuda/cuda_gpu_executor.cc:937] successful NUMA node read from SysFS had negative value (-1), but there must be at least one NUMA node, so returning NUMA node zero\n",
            "2021-07-20 04:35:08.250945: I tensorflow/stream_executor/cuda/cuda_gpu_executor.cc:937] successful NUMA node read from SysFS had negative value (-1), but there must be at least one NUMA node, so returning NUMA node zero\n",
            "2021-07-20 04:35:08.251557: I tensorflow/stream_executor/cuda/cuda_gpu_executor.cc:937] successful NUMA node read from SysFS had negative value (-1), but there must be at least one NUMA node, so returning NUMA node zero\n",
            "2021-07-20 04:35:08.252113: W tensorflow/core/common_runtime/gpu/gpu_bfc_allocator.cc:39] Overriding allow_growth setting because the TF_FORCE_GPU_ALLOW_GROWTH environment variable is set. Original config value was 0.\n",
            "2021-07-20 04:35:08.252158: I tensorflow/core/common_runtime/gpu/gpu_device.cc:1418] Created TensorFlow device (/job:localhost/replica:0/task:0/device:GPU:0 with 13837 MB memory) -> physical GPU (device: 0, name: Tesla T4, pci bus id: 0000:00:04.0, compute capability: 7.5)\n",
            "2021-07-20 04:35:08.265833: W tensorflow/python/util/util.cc:348] Sets are not currently considered sequences, but this may change in the future, so consider avoiding using them.\n",
            "2021-07-20 04:35:08.311836: I tensorflow/stream_executor/platform/default/dso_loader.cc:53] Successfully opened dynamic library libcublas.so.11\n",
            "2021-07-20 04:35:08.838093: I tensorflow/stream_executor/platform/default/dso_loader.cc:53] Successfully opened dynamic library libcublasLt.so.11\n",
            "All model checkpoint layers were used when initializing TFGPT2LMHeadModel.\n",
            "\n",
            "All the layers of TFGPT2LMHeadModel were initialized from the model checkpoint at ./dataset/models/.\n",
            "If your task is similar to the task the model of the checkpoint was trained on, you can already use TFGPT2LMHeadModel for predictions without further training.\n",
            "INFO:absl:using Adamw optimizer\n",
            "INFO:absl:gradient_clip_norm=1.000000\n",
            "[{'generated_text': '我對物理很有興趣,然何与。公人,无为人。言我,此言此者与。】'}]\n",
            "[{'generated_text': '我對物理很有興趣,空深期。人有人,然深泉。人人间,人不得。生与我,我独与生。我天地,我为亦。与与世我亦与与与天地与我天天地我,不我我生生吾道'}]\n",
            "[{'generated_text': '我對物理很有興趣,无名。有有公与,无乃有鸟名名为。公子皆为客有,此生不人与。言不之,不敢无言。之不,其不不与不,,公乃言与此言不敢与之公言不之之。'}]\n",
            "[{'generated_text': '我對物理很有興趣,然无乃。然无乃乃,与乃乃。乃乃乃乃,乃乃乃乃乃。乃乃乃乃乃,乃乃乃乃乃。乃乃乃乃乃乃乃乃乃乃乃乃乃乃乃乃乃乃乃乃乃乃乃乃乃乃乃乃乃乃乃乃乃乃乃乃乃乃乃乃乃乃乃乃乃乃乃乃乃'}]\n",
            "[{'generated_text': '我對物理很有興趣,然无乃。然无乃乃,与乃乃。乃乃乃乃,乃乃乃乃乃。乃乃乃乃乃,乃乃乃乃乃。乃乃乃乃乃乃乃乃乃乃乃乃乃乃乃乃乃乃乃乃乃乃乃乃乃乃乃乃乃乃乃乃乃乃乃乃乃乃乃乃乃乃乃乃乃乃乃乃乃'}]\n",
            "[{'generated_text': '我對物理很有興趣,然无乃。然无乃乃,与乃乃。乃乃乃乃,乃乃乃乃乃。乃乃乃乃乃,乃乃乃乃乃。乃乃乃乃乃乃乃乃乃乃乃乃乃乃乃乃乃乃乃乃乃乃乃乃乃乃乃乃乃乃乃乃乃乃乃乃乃乃乃乃乃乃乃乃乃乃乃乃乃'}]\n",
            "[{'generated_text': '我對物理很有興趣,然无乃。然无乃乃,与乃乃。乃乃乃乃,乃乃乃乃乃。乃乃乃乃乃,乃乃乃乃乃。乃乃乃乃乃乃乃乃乃乃乃乃乃乃乃乃乃乃乃乃乃乃乃乃乃乃乃乃乃乃乃乃乃乃乃乃乃乃乃乃乃乃乃乃乃乃乃乃乃'}]\n"
          ],
          "name": "stdout"
        }
      ]
    }
  ]
}